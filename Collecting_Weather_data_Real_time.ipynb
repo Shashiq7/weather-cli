{
  "nbformat": 4,
  "nbformat_minor": 0,
  "metadata": {
    "colab": {
      "provenance": [],
      "authorship_tag": "ABX9TyPH6rrmcNha/vhe1RbMd4yG",
      "include_colab_link": true
    },
    "kernelspec": {
      "name": "python3",
      "display_name": "Python 3"
    },
    "language_info": {
      "name": "python"
    }
  },
  "cells": [
    {
      "cell_type": "markdown",
      "metadata": {
        "id": "view-in-github",
        "colab_type": "text"
      },
      "source": [
        "<a href=\"https://colab.research.google.com/github/Shashiq7/weather-cli/blob/main/Collecting_Weather_data_Real_time.ipynb\" target=\"_parent\"><img src=\"https://colab.research.google.com/assets/colab-badge.svg\" alt=\"Open In Colab\"/></a>"
      ]
    },
    {
      "cell_type": "code",
      "source": [
        "import requests\n",
        "\n",
        "API_KEY = '6367e9b59965878e7ccb80e5ef6c2cbe'\n",
        "BASE_URL = 'http://api.openweathermap.org/data/2.5/weather'\n",
        "\n",
        "def fetch_weather_data(city):\n",
        "    complete_url = f\"{BASE_URL}?q={city}&appid={API_KEY}&units=metric\"\n",
        "    response = requests.get(complete_url)\n",
        "    return response.json()\n"
      ],
      "metadata": {
        "id": "Vkf37ivPB90L"
      },
      "execution_count": 1,
      "outputs": []
    },
    {
      "cell_type": "markdown",
      "source": [
        "**Json File output**\n",
        "\n",
        "{\"coord\":{\"lon\":85.1167,\"lat\":25.6},\n",
        "\"weather\":[{\"id\":211,\"main\":\"Thunderstorm\",\"description\":\"thunderstorm\",\"icon\":\"11d\"}],\n",
        "\"base\":\"stations\",\n",
        "\"main\":{\"temp\":31.96,\"feels_like\":38.96,\"temp_min\":31.96,\"temp_max\":31.96,\"pressure\":999,\"humidity\":94,\"sea_level\":999,\"grnd_level\":993},\n",
        "\"visibility\":2300,\n",
        "\"wind\":{\"speed\":2.57,\"deg\":130},\n",
        "\"clouds\":{\"all\":75},\"dt\":1720606503,\n",
        "\"sys\":{\"type\":1,\"id\":9129,\"country\":\"IN\",\"sunrise\":1720568131,\"sunset\":1720617233},\n",
        "\"timezone\":19800,\n",
        "\"id\":1260086,\n",
        "\"name\":\"Patna\",\n",
        "\"cod\":200}"
      ],
      "metadata": {
        "id": "jQLgyd7AlOa1"
      }
    },
    {
      "cell_type": "code",
      "source": [
        "current_weather = []"
      ],
      "metadata": {
        "id": "M9N17tGFGQF5"
      },
      "execution_count": 6,
      "outputs": []
    },
    {
      "cell_type": "code",
      "source": [
        "def parse_current_weather(data):\n",
        "    current_weather.clear()\n",
        "    current_weather.append(data['main']['temp'])\n",
        "    current_weather.append(data['weather'][0]['description'])\n",
        "    current_weather.append(data['main']['humidity'])\n",
        "    current_weather.append(data['wind']['speed'])\n",
        "\n"
      ],
      "metadata": {
        "id": "PmL_GztoJdcN"
      },
      "execution_count": 3,
      "outputs": []
    },
    {
      "cell_type": "code",
      "source": [
        "def display_current_weather():\n",
        "    print(f\"Temperature: {current_weather[0]}°C\")\n",
        "    print(f\"Weather: {current_weather[1]}\")\n",
        "    print(f\"Humidity: {current_weather[2]}%\")\n",
        "    print(f\"Wind Speed: {current_weather[3]} m/s\")\n",
        "\n"
      ],
      "metadata": {
        "id": "QFa9rfPcJkFW"
      },
      "execution_count": 4,
      "outputs": []
    },
    {
      "cell_type": "code",
      "source": [
        "def main():\n",
        "    city = input(\"Enter city name: \")\n",
        "    weather_data = fetch_weather_data(city)\n",
        "\n",
        "    if weather_data['cod'] == 200:\n",
        "        parse_current_weather(weather_data)\n",
        "        display_current_weather()\n",
        "\n",
        "    else:\n",
        "        print(\"City not found. Please check the city name and try again.\")\n",
        "\n",
        "if __name__ == \"__main__\":\n",
        "    main()\n"
      ],
      "metadata": {
        "colab": {
          "base_uri": "https://localhost:8080/"
        },
        "id": "ArUJzlCtJoGk",
        "outputId": "26fa614b-5c18-44ee-8cfd-65db70a0875c"
      },
      "execution_count": 5,
      "outputs": [
        {
          "output_type": "stream",
          "name": "stdout",
          "text": [
            "Enter city name: bangalore\n",
            "Temperature: 26.37°C\n",
            "Weather: broken clouds\n",
            "Humidity: 76%\n",
            "Wind Speed: 2.06 m/s\n"
          ]
        }
      ]
    },
    {
      "cell_type": "code",
      "source": [],
      "metadata": {
        "id": "x6EYW33oLaJd"
      },
      "execution_count": null,
      "outputs": []
    }
  ]
}